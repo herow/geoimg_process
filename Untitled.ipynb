{
 "cells": [
  {
   "cell_type": "code",
   "execution_count": 1,
   "metadata": {},
   "outputs": [],
   "source": [
    "from osgeo import gdal, gdalnumeric, ogr ,gdal_array \n",
    "import os  \n",
    "import operator  \n",
    "import pdb\n",
    "import numpy as np\n",
    "gdal.UseExceptions()"
   ]
  },
  {
   "cell_type": "code",
   "execution_count": 2,
   "metadata": {},
   "outputs": [],
   "source": [
    "def world2Pixel(geoMatrix, x, y):  \n",
    "    \"\"\" \n",
    "    Uses a gdal geomatrix (gdal.GetGeoTransform()) to calculate \n",
    "    the pixel location of a geospatial coordinate \n",
    "    \"\"\"  \n",
    "    ulX = geoMatrix[0]  \n",
    "    ulY = geoMatrix[3]  \n",
    "    xDist = geoMatrix[1]  \n",
    "    pixel = int((x - ulX) / xDist)  \n",
    "    line = int((ulY - y) / xDist)  \n",
    "    return (pixel, line)"
   ]
  },
  {
   "cell_type": "code",
   "execution_count": 3,
   "metadata": {},
   "outputs": [],
   "source": [
    "def pixel2World(geoMatrix, pixel, line):  \n",
    "    \"\"\" \n",
    "    Uses a gdal geomatrix (gdal.GetGeoTransform()) to calculate \n",
    "    the pixel location  to a geospatial coordinate \n",
    "    \"\"\"  \n",
    "    ulX = geoMatrix[0]  \n",
    "    ulY = geoMatrix[3]  \n",
    "    xDist = geoMatrix[1]  \n",
    "    geoX = pixel * xDist + ulX  \n",
    "    geoY = ulY - line*xDist   \n",
    "    return (geoX, geoY)"
   ]
  },
  {
   "cell_type": "code",
   "execution_count": 4,
   "metadata": {},
   "outputs": [],
   "source": [
    "def relu(x):\n",
    "    return max(x,0)"
   ]
  },
  {
   "cell_type": "code",
   "execution_count": 5,
   "metadata": {},
   "outputs": [],
   "source": [
    "def random_crop(width, height, ob_box,clip_size):\n",
    "    left_closer_to_boundary = ob_box[0] <= (width - ob_box[2])\n",
    "    up_closer_to_boundary = ob_box[1] <= (height - ob_box[3])\n",
    "    if left_closer_to_boundary:\n",
    "        xmin = max(ob_box[0] - np.random.choice(np.arange(clip_size-(ob_box[2] - ob_box[0]))), 0)\n",
    "        xmax = xmin + clip_size\n",
    "    else:\n",
    "        xmax = min(ob_box[2] + np.random.choice(np.arange(clip_size-(ob_box[2] - ob_box[0]))), width)\n",
    "        xmin = xmax - clip_size\n",
    "    if up_closer_to_boundary:\n",
    "        ymin = max(ob_box[1] - np.random.choice(np.arange(clip_size-(ob_box[3] - ob_box[1]))), 0)\n",
    "        ymax = ymin + clip_size\n",
    "    else:\n",
    "        ymax = min(ob_box[3] + np.random.choice(np.arange(clip_size-(ob_box[3] - ob_box[1]))), height)\n",
    "        ymin = ymax - clip_size\n",
    "    return xmin, ymin, xmax, ymax"
   ]
  },
  {
   "cell_type": "code",
   "execution_count": 6,
   "metadata": {},
   "outputs": [],
   "source": [
    "def get_bndbox(ob_box, width=float('inf'), height=float('inf')):\n",
    "    \n",
    "    ob_xmin = relu(ob_box[0])\n",
    "    ob_ymin = relu(ob_box[1])\n",
    "    ob_xmax = min(ob_box[2], width)\n",
    "    ob_ymax = min(ob_box[3], height)\n",
    "    return ob_xmin, ob_ymin, ob_xmax, ob_ymax"
   ]
  },
  {
   "cell_type": "code",
   "execution_count": 7,
   "metadata": {},
   "outputs": [],
   "source": [
    "def include_ratio(crop, ob_box):\n",
    "    lu = np.maximum(crop[0:2], ob_box[0:2])\n",
    "    rd = np.minimum(crop[2:], ob_box[2:])\n",
    "    intersection = np.maximum(rd - lu, [0,0])\n",
    "    inter_square = intersection[0]*intersection[1]\n",
    "    square_ob = (ob_box[2]-ob_box[0]) * (ob_box[3] - ob_box[1])\n",
    "    return inter_square / (square_ob + 1e-5)"
   ]
  },
  {
   "cell_type": "code",
   "execution_count": 8,
   "metadata": {},
   "outputs": [],
   "source": [
    "def find_all_objects_in_a_crop(crop, imgPts,avg_tree_rds,width, height, include_threshold=0.7):\n",
    "    # @param width: original image width\n",
    "    # @param height: original image height\n",
    "    obs_str = ''\n",
    "    center_str = ''\n",
    "    for imgPt in imgPts:\n",
    "        ob_box = [imgPt[0]-avg_tree_rds,imgPt[1]-avg_tree_rds,imgPt[0]+avg_tree_rds,imgPt[1]+avg_tree_rds]\n",
    "        bndbox = get_bndbox(ob_box, width, height)\n",
    "        if include_ratio(crop, bndbox) > include_threshold:\n",
    "            obs_str += ' ' + str(max(bndbox[0] - crop[0], 0))\n",
    "            obs_str += ' ' + str(max(bndbox[1] - crop[1], 0))\n",
    "            obs_str += ' ' + str(min(bndbox[2] - crop[0], crop[2]- crop[0]-1))\n",
    "            obs_str += ' ' + str(min(bndbox[3] - crop[1], crop[3]- crop[1]-1))\n",
    "            obs_str += ' ' + '0'\n",
    "            center_str += ' ' + str(min(max((imgPt[0] - crop[0]),0),crop[2]- crop[0]-1))\n",
    "            center_str += ' ' + str(min(max((imgPt[1] - crop[1]),0),crop[3]- crop[1]-1))\n",
    "            center_str += ' ' + '0'\n",
    "    obs_str += '\\n'\n",
    "    center_str += '\\n'\n",
    "    return obs_str,center_str"
   ]
  },
  {
   "cell_type": "code",
   "execution_count": 9,
   "metadata": {},
   "outputs": [],
   "source": [
    "def process_a_file(shapefile_path, raster_path,outdir,clip_size = 448,avg_tree_rds=40):\n",
    "    shapef = ogr.Open(shapefile_path)  \n",
    "    lyrname = os.path.split( os.path.splitext( shapefile_path )[0] )[1] \n",
    "    lyr = shapef.GetLayer(lyrname) \n",
    "    \n",
    "    srcImage = gdal.Open(raster_path)\n",
    "    geoTrans = srcImage.GetGeoTransform()\n",
    "    oriHei = srcImage.RasterYSize  \n",
    "    oriWid = srcImage.RasterXSize \n",
    "    srcArray = gdalnumeric.LoadFile(raster_path)\n",
    "    \n",
    "    feat = lyr.GetNextFeature()  \n",
    "    geoPts = []\n",
    "    while feat is not None:  \n",
    "        geoPt=feat.GetGeometryRef()\n",
    "        geoPts.append(geoPt)\n",
    "        feat = lyr.GetNextFeature() \n",
    "        \n",
    "    out_filename = outdir + lyrname +'_clip_label.txt'\n",
    "    out_file = open(out_filename, 'a')\n",
    "\n",
    "    for i,geopt in enumerate(geoPts):\n",
    "        lyr.ResetReading() \n",
    "        imgX, imgY = world2Pixel(geoTrans, geopt.GetX(), geopt.GetY())\n",
    "        #imgPts.append([imgX, imgY])\n",
    "        ob_box = [imgX-avg_tree_rds,imgY-avg_tree_rds,imgX+avg_tree_rds,imgY+avg_tree_rds]\n",
    "        #ob_boxes.append(ob_box)\n",
    "        bnd_box = get_bndbox(ob_box,oriWid,oriHei)\n",
    "        crop = random_crop(oriWid, oriHei, bnd_box,clip_size)\n",
    "        geoUl = pixel2World(geoTrans,crop[0],crop[1])\n",
    "        geoBr = pixel2World(geoTrans,crop[2],crop[3])\n",
    "        lyr.SetSpatialFilterRect(geoUl[0],geoUl[1],geoBr[0],geoBr[1])\n",
    "\n",
    "        imgPts = []\n",
    "        ob_boxes = []\n",
    "        oFeature = lyr.GetNextFeature()  \n",
    "\n",
    "        while oFeature is not None:  \n",
    "            inRectPt=oFeature.GetGeometryRef()\n",
    "            imgPt = world2Pixel(geoTrans,inRectPt.GetX(), inRectPt.GetY())\n",
    "            imgPts.append([imgPt[0],imgPt[1]])\n",
    "            ob_box = [imgPt[0]-avg_tree_rds,imgPt[1]-avg_tree_rds,imgPt[0]+avg_tree_rds,imgPt[1]+avg_tree_rds]\n",
    "            ob_boxes.append(ob_box)\n",
    "            oFeature = lyr.GetNextFeature() \n",
    "        obs_str,center_str = find_all_objects_in_a_crop(crop, imgPts, avg_tree_rds,oriWid, oriHei, include_threshold=0.7)\n",
    "        \n",
    "        crop_name = outdir + lyrname + '/' + lyrname +'_ob{}_crop.jpg'.format(i)\n",
    "        record = crop_name + obs_str\n",
    "        out_file.write(record)\n",
    "        # Save as an 8-bit jpeg for an easy, quick preview  \n",
    "        clip = srcArray[:, crop[1]:crop[3], crop[0]:crop[2]]\n",
    "        clip = clip.astype(gdalnumeric.uint8)  \n",
    "        gdalnumeric.SaveArray(clip, crop_name, format=\"JPEG\")\n",
    "    out_file.close()"
   ]
  },
  {
   "cell_type": "code",
   "execution_count": 10,
   "metadata": {},
   "outputs": [],
   "source": [
    "clip_size = 448\n",
    "avg_tree_rds=40\n",
    "shapefile_path = '/home/CV/geocv/data/geo/discolor/gylc_84.shp'  \n",
    "raster_path = '/home/CV/geocv/data/geo/2016102002.tif'  \n",
    "outdir = '/home/CV/geocv/ML/geotree/'"
   ]
  },
  {
   "cell_type": "code",
   "execution_count": null,
   "metadata": {},
   "outputs": [],
   "source": [
    "process_a_file(shapefile_path, raster_path,outdir,448,40)"
   ]
  },
  {
   "cell_type": "code",
   "execution_count": null,
   "metadata": {},
   "outputs": [],
   "source": []
  }
 ],
 "metadata": {
  "kernelspec": {
   "display_name": "Python 2",
   "language": "python",
   "name": "python2"
  },
  "language_info": {
   "codemirror_mode": {
    "name": "ipython",
    "version": 2
   },
   "file_extension": ".py",
   "mimetype": "text/x-python",
   "name": "python",
   "nbconvert_exporter": "python",
   "pygments_lexer": "ipython2",
   "version": "2.7.14"
  },
  "widgets": {
   "state": {},
   "version": "1.1.2"
  }
 },
 "nbformat": 4,
 "nbformat_minor": 2
}
