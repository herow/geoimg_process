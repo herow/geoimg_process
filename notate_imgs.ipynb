{
 "cells": [
  {
   "cell_type": "code",
   "execution_count": 5,
   "metadata": {
    "collapsed": false
   },
   "outputs": [],
   "source": [
    "import os\n",
    "import xml.etree.ElementTree as ET\n",
    "import struct\n",
    "import numpy as np\n",
    "import re\n",
    "import cv2"
   ]
  },
  {
   "cell_type": "code",
   "execution_count": 6,
   "metadata": {
    "collapsed": true
   },
   "outputs": [],
   "source": [
    "def notate_a_crop(jpg_file, label_txt):\n",
    "    label_file = OUTPUT_PATH + label_txt\n",
    "    object_list = get_object_list_from_label_txt(label_file, jpg_file)\n",
    "    img = cv2.imread(jpg_file)\n",
    "    for item in object_list:\n",
    "        if item[4] == 1:\n",
    "            cv2.rectangle(img, (item[0], item[1]), (item[2], item[3]), (0, 0, 255))\n",
    "        else:\n",
    "            cv2.rectangle(img, (item[0], item[1]), (item[2], item[3]), (255, 0, 0))\n",
    "    sub_name = jpg_file.split('/')[-1]\n",
    "    cv2.imwrite(OUTPUT_PATH + 'notated_crop/'+sub_name, img)"
   ]
  },
  {
   "cell_type": "code",
   "execution_count": 7,
   "metadata": {
    "collapsed": true
   },
   "outputs": [],
   "source": [
    "def get_object_list_from_label_txt(label_file, jpg_file):\n",
    "    with open(label_file, 'r') as f:\n",
    "        content = f.readlines()\n",
    "        object_list = []\n",
    "        for string in content:\n",
    "            if string.startswith(jpg_file):\n",
    "                string = string.strip(jpg_file).strip(' ').strip('\\n')\n",
    "                numbers = string.split(' ')\n",
    "                for i in range(len(numbers)//5):\n",
    "                    temp = []\n",
    "                    for j in range(5):\n",
    "                        temp.append(int(numbers[5*i+j]))\n",
    "                    object_list.append(temp)\n",
    "                return object_list\n",
    "        print(\"can't find records of {}\".format(jpg_file))\n",
    "        return None"
   ]
  },
  {
   "cell_type": "code",
   "execution_count": 8,
   "metadata": {
    "collapsed": true
   },
   "outputs": [],
   "source": [
    "OUTPUT_PATH = '/home/CV/geocv/ML/geotree/'\n",
    "crop_list = [i for i in os.listdir(OUTPUT_PATH+'gylc_84/') if i[-3:]=='jpg']\n",
    "for jpg_file in crop_list:\n",
    "    \n",
    "    jpg_file = OUTPUT_PATH + 'gylc_84/' + jpg_file\n",
    "    notate_a_crop(jpg_file,'gylc_84_clip_label.txt')"
   ]
  },
  {
   "cell_type": "code",
   "execution_count": null,
   "metadata": {
    "collapsed": true
   },
   "outputs": [],
   "source": []
  }
 ],
 "metadata": {
  "kernelspec": {
   "display_name": "Python 2",
   "language": "python",
   "name": "python2"
  },
  "language_info": {
   "codemirror_mode": {
    "name": "ipython",
    "version": 2
   },
   "file_extension": ".py",
   "mimetype": "text/x-python",
   "name": "python",
   "nbconvert_exporter": "python",
   "pygments_lexer": "ipython2",
   "version": "2.7.13"
  },
  "widgets": {
   "state": {},
   "version": "1.1.2"
  }
 },
 "nbformat": 4,
 "nbformat_minor": 1
}
